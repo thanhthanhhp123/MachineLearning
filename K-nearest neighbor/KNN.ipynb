{
 "cells": [
  {
   "cell_type": "code",
   "execution_count": 11,
   "metadata": {},
   "outputs": [],
   "source": [
    "from cv2 import *\n",
    "import numpy as np\n",
    "import matplotlib.pyplot as plt"
   ]
  },
  {
   "cell_type": "code",
   "execution_count": 43,
   "metadata": {},
   "outputs": [
    {
     "data": {
      "image/png": "[encoded data removed]",
      "text/plain": [
       "<Figure size 432x288 with 1 Axes>"
      ]
     },
     "metadata": {
      "needs_background": "light"
     },
     "output_type": "display_data"
    }
   ],
   "source": [
    "traindata = np.random.randint(0, 100, (25, 2)).astype(np.float32)\n",
    "results = np.random.randint(0, 2, (25, 1)).astype(np.float32)\n",
    "\n",
    "red = traindata[results.ravel() == 1]\n",
    "blue = traindata[results.ravel() == 0]\n",
    "newMembers = np.random.randint(0, 100, (1, 2)).astype(np.float32)\n",
    "plt.scatter(red[:,0], red[:,1], 100, 'r', 's')\n",
    "plt.scatter(blue[:, 0], blue[:, 1], 100 , 'b', '^')\n",
    "plt.scatter(newMembers[:, 0], newMembers[:, 0],100, 'g', 'o')\n",
    "plt.show()"
   ]
  },
  {
   "cell_type": "code",
   "execution_count": 44,
   "metadata": {},
   "outputs": [],
   "source": [
    "knn = cv2.ml.KNearest_create()\n",
    "knn.train(traindata, 0, results)\n",
    "rs = knn.findNearest(newMembers, 3)\n",
    "plt.show()"
   ]
  }
 ],
 "metadata": {
  "interpreter": {
   "hash": "aee8b7b246df8f9039afb4144a1f6fd8d2ca17a180786b69acc140d282b71a49"
  },
  "kernelspec": {
   "display_name": "Python 3.10.4 64-bit",
   "language": "python",
   "name": "python3"
  },
  "language_info": {
   "codemirror_mode": {
    "name": "ipython",
    "version": 3
   },
   "file_extension": ".py",
   "mimetype": "text/x-python",
   "name": "python",
   "nbconvert_exporter": "python",
   "pygments_lexer": "ipython3",
   "version": "3.10.4"
  },
  "orig_nbformat": 4
 },
 "nbformat": 4,
 "nbformat_minor": 2
}
