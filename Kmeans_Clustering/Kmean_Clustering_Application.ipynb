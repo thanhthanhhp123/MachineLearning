{
 "cells": [
  {
   "cell_type": "code",
   "execution_count": 2,
   "metadata": {},
   "outputs": [],
   "source": [
    "import numpy as np \n",
    "from mnist import MNIST # require `pip install python-mnist`\n",
    "import matplotlib.pyplot as plt\n",
    "from sklearn.cluster import KMeans"
   ]
  },
  {
   "cell_type": "code",
   "execution_count": 3,
   "metadata": {},
   "outputs": [
    {
     "name": "stderr",
     "output_type": "stream",
     "text": [
      "/Library/Frameworks/Python.framework/Versions/3.10/lib/python3.10/site-packages/mnist/loader.py:179: SyntaxWarning: \"is\" with a literal. Did you mean \"==\"?\n",
      "  if self.return_type is 'lists':\n",
      "/Library/Frameworks/Python.framework/Versions/3.10/lib/python3.10/site-packages/mnist/loader.py:181: SyntaxWarning: \"is\" with a literal. Did you mean \"==\"?\n",
      "  elif self.return_type is 'numpy':\n",
      "/Library/Frameworks/Python.framework/Versions/3.10/lib/python3.10/site-packages/mnist/loader.py:187: SyntaxWarning: \"is\" with a literal. Did you mean \"==\"?\n",
      "  if self.return_type is 'lists':\n",
      "/Library/Frameworks/Python.framework/Versions/3.10/lib/python3.10/site-packages/mnist/loader.py:189: SyntaxWarning: \"is\" with a literal. Did you mean \"==\"?\n",
      "  elif self.return_type is 'numpy':\n",
      "/Library/Frameworks/Python.framework/Versions/3.10/lib/python3.10/site-packages/mnist/loader.py:243: SyntaxWarning: \"is not\" with a literal. Did you mean \"!=\"?\n",
      "  if type(batch) is not list or len(batch) is not 2:\n",
      "/Library/Frameworks/Python.framework/Versions/3.10/lib/python3.10/site-packages/mnist/loader.py:179: SyntaxWarning: \"is\" with a literal. Did you mean \"==\"?\n",
      "  if self.return_type is 'lists':\n",
      "/Library/Frameworks/Python.framework/Versions/3.10/lib/python3.10/site-packages/mnist/loader.py:181: SyntaxWarning: \"is\" with a literal. Did you mean \"==\"?\n",
      "  elif self.return_type is 'numpy':\n",
      "/Library/Frameworks/Python.framework/Versions/3.10/lib/python3.10/site-packages/mnist/loader.py:187: SyntaxWarning: \"is\" with a literal. Did you mean \"==\"?\n",
      "  if self.return_type is 'lists':\n",
      "/Library/Frameworks/Python.framework/Versions/3.10/lib/python3.10/site-packages/mnist/loader.py:189: SyntaxWarning: \"is\" with a literal. Did you mean \"==\"?\n",
      "  elif self.return_type is 'numpy':\n",
      "/Library/Frameworks/Python.framework/Versions/3.10/lib/python3.10/site-packages/mnist/loader.py:243: SyntaxWarning: \"is not\" with a literal. Did you mean \"!=\"?\n",
      "  if type(batch) is not list or len(batch) is not 2:\n",
      "/Library/Frameworks/Python.framework/Versions/3.10/lib/python3.10/site-packages/mnist/loader.py:179: SyntaxWarning: \"is\" with a literal. Did you mean \"==\"?\n",
      "  if self.return_type is 'lists':\n",
      "/Library/Frameworks/Python.framework/Versions/3.10/lib/python3.10/site-packages/mnist/loader.py:181: SyntaxWarning: \"is\" with a literal. Did you mean \"==\"?\n",
      "  elif self.return_type is 'numpy':\n",
      "/Library/Frameworks/Python.framework/Versions/3.10/lib/python3.10/site-packages/mnist/loader.py:187: SyntaxWarning: \"is\" with a literal. Did you mean \"==\"?\n",
      "  if self.return_type is 'lists':\n",
      "/Library/Frameworks/Python.framework/Versions/3.10/lib/python3.10/site-packages/mnist/loader.py:189: SyntaxWarning: \"is\" with a literal. Did you mean \"==\"?\n",
      "  elif self.return_type is 'numpy':\n",
      "/Library/Frameworks/Python.framework/Versions/3.10/lib/python3.10/site-packages/mnist/loader.py:243: SyntaxWarning: \"is not\" with a literal. Did you mean \"!=\"?\n",
      "  if type(batch) is not list or len(batch) is not 2:\n",
      "/Library/Frameworks/Python.framework/Versions/3.10/lib/python3.10/site-packages/mnist/loader.py:179: SyntaxWarning: \"is\" with a literal. Did you mean \"==\"?\n",
      "  if self.return_type is 'lists':\n",
      "/Library/Frameworks/Python.framework/Versions/3.10/lib/python3.10/site-packages/mnist/loader.py:181: SyntaxWarning: \"is\" with a literal. Did you mean \"==\"?\n",
      "  elif self.return_type is 'numpy':\n",
      "/Library/Frameworks/Python.framework/Versions/3.10/lib/python3.10/site-packages/mnist/loader.py:187: SyntaxWarning: \"is\" with a literal. Did you mean \"==\"?\n",
      "  if self.return_type is 'lists':\n",
      "/Library/Frameworks/Python.framework/Versions/3.10/lib/python3.10/site-packages/mnist/loader.py:189: SyntaxWarning: \"is\" with a literal. Did you mean \"==\"?\n",
      "  elif self.return_type is 'numpy':\n",
      "/Library/Frameworks/Python.framework/Versions/3.10/lib/python3.10/site-packages/mnist/loader.py:243: SyntaxWarning: \"is not\" with a literal. Did you mean \"!=\"?\n",
      "  if type(batch) is not list or len(batch) is not 2:\n",
      "/Library/Frameworks/Python.framework/Versions/3.10/lib/python3.10/site-packages/mnist/loader.py:179: SyntaxWarning: \"is\" with a literal. Did you mean \"==\"?\n",
      "  if self.return_type is 'lists':\n",
      "/Library/Frameworks/Python.framework/Versions/3.10/lib/python3.10/site-packages/mnist/loader.py:181: SyntaxWarning: \"is\" with a literal. Did you mean \"==\"?\n",
      "  elif self.return_type is 'numpy':\n",
      "/Library/Frameworks/Python.framework/Versions/3.10/lib/python3.10/site-packages/mnist/loader.py:187: SyntaxWarning: \"is\" with a literal. Did you mean \"==\"?\n",
      "  if self.return_type is 'lists':\n",
      "/Library/Frameworks/Python.framework/Versions/3.10/lib/python3.10/site-packages/mnist/loader.py:189: SyntaxWarning: \"is\" with a literal. Did you mean \"==\"?\n",
      "  elif self.return_type is 'numpy':\n",
      "/Library/Frameworks/Python.framework/Versions/3.10/lib/python3.10/site-packages/mnist/loader.py:243: SyntaxWarning: \"is not\" with a literal. Did you mean \"!=\"?\n",
      "  if type(batch) is not list or len(batch) is not 2:\n",
      "/Library/Frameworks/Python.framework/Versions/3.10/lib/python3.10/site-packages/mnist/loader.py:179: SyntaxWarning: \"is\" with a literal. Did you mean \"==\"?\n",
      "  if self.return_type is 'lists':\n",
      "/Library/Frameworks/Python.framework/Versions/3.10/lib/python3.10/site-packages/mnist/loader.py:181: SyntaxWarning: \"is\" with a literal. Did you mean \"==\"?\n",
      "  elif self.return_type is 'numpy':\n",
      "/Library/Frameworks/Python.framework/Versions/3.10/lib/python3.10/site-packages/mnist/loader.py:187: SyntaxWarning: \"is\" with a literal. Did you mean \"==\"?\n",
      "  if self.return_type is 'lists':\n",
      "/Library/Frameworks/Python.framework/Versions/3.10/lib/python3.10/site-packages/mnist/loader.py:189: SyntaxWarning: \"is\" with a literal. Did you mean \"==\"?\n",
      "  elif self.return_type is 'numpy':\n",
      "/Library/Frameworks/Python.framework/Versions/3.10/lib/python3.10/site-packages/mnist/loader.py:243: SyntaxWarning: \"is not\" with a literal. Did you mean \"!=\"?\n",
      "  if type(batch) is not list or len(batch) is not 2:\n",
      "/Library/Frameworks/Python.framework/Versions/3.10/lib/python3.10/site-packages/mnist/loader.py:179: SyntaxWarning: \"is\" with a literal. Did you mean \"==\"?\n",
      "  if self.return_type is 'lists':\n",
      "/Library/Frameworks/Python.framework/Versions/3.10/lib/python3.10/site-packages/mnist/loader.py:181: SyntaxWarning: \"is\" with a literal. Did you mean \"==\"?\n",
      "  elif self.return_type is 'numpy':\n",
      "/Library/Frameworks/Python.framework/Versions/3.10/lib/python3.10/site-packages/mnist/loader.py:187: SyntaxWarning: \"is\" with a literal. Did you mean \"==\"?\n",
      "  if self.return_type is 'lists':\n",
      "/Library/Frameworks/Python.framework/Versions/3.10/lib/python3.10/site-packages/mnist/loader.py:189: SyntaxWarning: \"is\" with a literal. Did you mean \"==\"?\n",
      "  elif self.return_type is 'numpy':\n",
      "/Library/Frameworks/Python.framework/Versions/3.10/lib/python3.10/site-packages/mnist/loader.py:243: SyntaxWarning: \"is not\" with a literal. Did you mean \"!=\"?\n",
      "  if type(batch) is not list or len(batch) is not 2:\n",
      "/Library/Frameworks/Python.framework/Versions/3.10/lib/python3.10/site-packages/mnist/loader.py:179: SyntaxWarning: \"is\" with a literal. Did you mean \"==\"?\n",
      "  if self.return_type is 'lists':\n",
      "/Library/Frameworks/Python.framework/Versions/3.10/lib/python3.10/site-packages/mnist/loader.py:181: SyntaxWarning: \"is\" with a literal. Did you mean \"==\"?\n",
      "  elif self.return_type is 'numpy':\n",
      "/Library/Frameworks/Python.framework/Versions/3.10/lib/python3.10/site-packages/mnist/loader.py:187: SyntaxWarning: \"is\" with a literal. Did you mean \"==\"?\n",
      "  if self.return_type is 'lists':\n",
      "/Library/Frameworks/Python.framework/Versions/3.10/lib/python3.10/site-packages/mnist/loader.py:189: SyntaxWarning: \"is\" with a literal. Did you mean \"==\"?\n",
      "  elif self.return_type is 'numpy':\n",
      "/Library/Frameworks/Python.framework/Versions/3.10/lib/python3.10/site-packages/mnist/loader.py:243: SyntaxWarning: \"is not\" with a literal. Did you mean \"!=\"?\n",
      "  if type(batch) is not list or len(batch) is not 2:\n"
     ]
    },
    {
     "ename": "FileNotFoundError",
     "evalue": "[Errno 2] No such file or directory: 'python_mnist/t10k-labels-idx1-ubyte'",
     "output_type": "error",
     "traceback": [
      "\u001b[0;31m---------------------------------------------------------------------------\u001b[0m",
      "\u001b[0;31mFileNotFoundError\u001b[0m                         Traceback (most recent call last)",
      "\u001b[1;32m/Users/thanhtran/Documents/Python/Machine Learning/Kmeans_Clustering/Kmean_Clustering_Application.ipynb Cell 2'\u001b[0m in \u001b[0;36m<cell line: 4>\u001b[0;34m()\u001b[0m\n\u001b[1;32m      <a href='vscode-notebook-cell:/Users/thanhtran/Documents/Python/Machine%20Learning/Kmeans_Clustering/Kmean_Clustering_Application.ipynb#ch0000001?line=0'>1</a>\u001b[0m \u001b[39mfrom\u001b[39;00m \u001b[39mdisplay_network\u001b[39;00m \u001b[39mimport\u001b[39;00m \u001b[39m*\u001b[39m\n\u001b[1;32m      <a href='vscode-notebook-cell:/Users/thanhtran/Documents/Python/Machine%20Learning/Kmeans_Clustering/Kmean_Clustering_Application.ipynb#ch0000001?line=2'>3</a>\u001b[0m mndata \u001b[39m=\u001b[39m MNIST(\u001b[39m'\u001b[39m\u001b[39mpython_mnist\u001b[39m\u001b[39m'\u001b[39m) \u001b[39m# path to your MNIST folder \u001b[39;00m\n\u001b[0;32m----> <a href='vscode-notebook-cell:/Users/thanhtran/Documents/Python/Machine%20Learning/Kmeans_Clustering/Kmean_Clustering_Application.ipynb#ch0000001?line=3'>4</a>\u001b[0m mndata\u001b[39m.\u001b[39;49mload_testing()\n\u001b[1;32m      <a href='vscode-notebook-cell:/Users/thanhtran/Documents/Python/Machine%20Learning/Kmeans_Clustering/Kmean_Clustering_Application.ipynb#ch0000001?line=4'>5</a>\u001b[0m X \u001b[39m=\u001b[39m mndata\u001b[39m.\u001b[39mtest_images\n\u001b[1;32m      <a href='vscode-notebook-cell:/Users/thanhtran/Documents/Python/Machine%20Learning/Kmeans_Clustering/Kmean_Clustering_Application.ipynb#ch0000001?line=6'>7</a>\u001b[0m kmeans \u001b[39m=\u001b[39m KMeans(n_clusters\u001b[39m=\u001b[39mK)\u001b[39m.\u001b[39mfit(X)\n",
      "File \u001b[0;32m/Library/Frameworks/Python.framework/Versions/3.10/lib/python3.10/site-packages/mnist/loader.py:116\u001b[0m, in \u001b[0;36mMNIST.load_testing\u001b[0;34m(self)\u001b[0m\n\u001b[1;32m    <a href='file:///Library/Frameworks/Python.framework/Versions/3.10/lib/python3.10/site-packages/mnist/loader.py?line=114'>115</a>\u001b[0m \u001b[39mdef\u001b[39;00m \u001b[39mload_testing\u001b[39m(\u001b[39mself\u001b[39m):\n\u001b[0;32m--> <a href='file:///Library/Frameworks/Python.framework/Versions/3.10/lib/python3.10/site-packages/mnist/loader.py?line=115'>116</a>\u001b[0m     ims, labels \u001b[39m=\u001b[39m \u001b[39mself\u001b[39;49m\u001b[39m.\u001b[39;49mload(os\u001b[39m.\u001b[39;49mpath\u001b[39m.\u001b[39;49mjoin(\u001b[39mself\u001b[39;49m\u001b[39m.\u001b[39;49mpath, \u001b[39mself\u001b[39;49m\u001b[39m.\u001b[39;49mtest_img_fname),\n\u001b[1;32m    <a href='file:///Library/Frameworks/Python.framework/Versions/3.10/lib/python3.10/site-packages/mnist/loader.py?line=116'>117</a>\u001b[0m                             os\u001b[39m.\u001b[39;49mpath\u001b[39m.\u001b[39;49mjoin(\u001b[39mself\u001b[39;49m\u001b[39m.\u001b[39;49mpath, \u001b[39mself\u001b[39;49m\u001b[39m.\u001b[39;49mtest_lbl_fname))\n\u001b[1;32m    <a href='file:///Library/Frameworks/Python.framework/Versions/3.10/lib/python3.10/site-packages/mnist/loader.py?line=118'>119</a>\u001b[0m     \u001b[39mself\u001b[39m\u001b[39m.\u001b[39mtest_images \u001b[39m=\u001b[39m \u001b[39mself\u001b[39m\u001b[39m.\u001b[39mprocess_images(ims)\n\u001b[1;32m    <a href='file:///Library/Frameworks/Python.framework/Versions/3.10/lib/python3.10/site-packages/mnist/loader.py?line=119'>120</a>\u001b[0m     \u001b[39mself\u001b[39m\u001b[39m.\u001b[39mtest_labels \u001b[39m=\u001b[39m \u001b[39mself\u001b[39m\u001b[39m.\u001b[39mprocess_labels(labels)\n",
      "File \u001b[0;32m/Library/Frameworks/Python.framework/Versions/3.10/lib/python3.10/site-packages/mnist/loader.py:247\u001b[0m, in \u001b[0;36mMNIST.load\u001b[0;34m(self, path_img, path_lbl, batch)\u001b[0m\n\u001b[1;32m    <a href='file:///Library/Frameworks/Python.framework/Versions/3.10/lib/python3.10/site-packages/mnist/loader.py?line=242'>243</a>\u001b[0m     \u001b[39mif\u001b[39;00m \u001b[39mtype\u001b[39m(batch) \u001b[39mis\u001b[39;00m \u001b[39mnot\u001b[39;00m \u001b[39mlist\u001b[39m \u001b[39mor\u001b[39;00m \u001b[39mlen\u001b[39m(batch) \u001b[39mis\u001b[39;00m \u001b[39mnot\u001b[39;00m \u001b[39m2\u001b[39m:\n\u001b[1;32m    <a href='file:///Library/Frameworks/Python.framework/Versions/3.10/lib/python3.10/site-packages/mnist/loader.py?line=243'>244</a>\u001b[0m         \u001b[39mraise\u001b[39;00m \u001b[39mValueError\u001b[39;00m(\u001b[39m'\u001b[39m\u001b[39mbatch should be a 1-D list\u001b[39m\u001b[39m'\u001b[39m\n\u001b[1;32m    <a href='file:///Library/Frameworks/Python.framework/Versions/3.10/lib/python3.10/site-packages/mnist/loader.py?line=244'>245</a>\u001b[0m                          \u001b[39m'\u001b[39m\u001b[39m(start_point, batch_size)\u001b[39m\u001b[39m'\u001b[39m)\n\u001b[0;32m--> <a href='file:///Library/Frameworks/Python.framework/Versions/3.10/lib/python3.10/site-packages/mnist/loader.py?line=246'>247</a>\u001b[0m \u001b[39mwith\u001b[39;00m \u001b[39mself\u001b[39;49m\u001b[39m.\u001b[39;49mopener(path_lbl, \u001b[39m'\u001b[39;49m\u001b[39mrb\u001b[39;49m\u001b[39m'\u001b[39;49m) \u001b[39mas\u001b[39;00m file:\n\u001b[1;32m    <a href='file:///Library/Frameworks/Python.framework/Versions/3.10/lib/python3.10/site-packages/mnist/loader.py?line=247'>248</a>\u001b[0m     magic, size \u001b[39m=\u001b[39m struct\u001b[39m.\u001b[39munpack(\u001b[39m\"\u001b[39m\u001b[39m>II\u001b[39m\u001b[39m\"\u001b[39m, file\u001b[39m.\u001b[39mread(\u001b[39m8\u001b[39m))\n\u001b[1;32m    <a href='file:///Library/Frameworks/Python.framework/Versions/3.10/lib/python3.10/site-packages/mnist/loader.py?line=248'>249</a>\u001b[0m     \u001b[39mif\u001b[39;00m magic \u001b[39m!=\u001b[39m \u001b[39m2049\u001b[39m:\n",
      "File \u001b[0;32m/Library/Frameworks/Python.framework/Versions/3.10/lib/python3.10/site-packages/mnist/loader.py:239\u001b[0m, in \u001b[0;36mMNIST.opener\u001b[0;34m(self, path_fn, *args, **kwargs)\u001b[0m\n\u001b[1;32m    <a href='file:///Library/Frameworks/Python.framework/Versions/3.10/lib/python3.10/site-packages/mnist/loader.py?line=236'>237</a>\u001b[0m     \u001b[39mreturn\u001b[39;00m gzip\u001b[39m.\u001b[39mopen(path_fn \u001b[39m+\u001b[39m \u001b[39m'\u001b[39m\u001b[39m.gz\u001b[39m\u001b[39m'\u001b[39m, \u001b[39m*\u001b[39margs, \u001b[39m*\u001b[39m\u001b[39m*\u001b[39mkwargs)\n\u001b[1;32m    <a href='file:///Library/Frameworks/Python.framework/Versions/3.10/lib/python3.10/site-packages/mnist/loader.py?line=237'>238</a>\u001b[0m \u001b[39melse\u001b[39;00m:\n\u001b[0;32m--> <a href='file:///Library/Frameworks/Python.framework/Versions/3.10/lib/python3.10/site-packages/mnist/loader.py?line=238'>239</a>\u001b[0m     \u001b[39mreturn\u001b[39;00m \u001b[39mopen\u001b[39;49m(path_fn, \u001b[39m*\u001b[39;49margs, \u001b[39m*\u001b[39;49m\u001b[39m*\u001b[39;49mkwargs)\n",
      "\u001b[0;31mFileNotFoundError\u001b[0m: [Errno 2] No such file or directory: 'python_mnist/t10k-labels-idx1-ubyte'"
     ]
    }
   ],
   "source": [
    "from display_network import *\n",
    "\n",
    "mndata = MNIST('python_mnist') # path to your MNIST folder \n",
    "mndata.load_testing()\n",
    "X = mndata.test_images\n",
    "\n",
    "kmeans = KMeans(n_clusters=K).fit(X)\n",
    "pred_label = kmeans.predict(X)"
   ]
  }
 ],
 "metadata": {
  "interpreter": {
   "hash": "aee8b7b246df8f9039afb4144a1f6fd8d2ca17a180786b69acc140d282b71a49"
  },
  "kernelspec": {
   "display_name": "Python 3.10.4 64-bit",
   "language": "python",
   "name": "python3"
  },
  "language_info": {
   "codemirror_mode": {
    "name": "ipython",
    "version": 3
   },
   "file_extension": ".py",
   "mimetype": "text/x-python",
   "name": "python",
   "nbconvert_exporter": "python",
   "pygments_lexer": "ipython3",
   "version": "3.10.4"
  },
  "orig_nbformat": 4
 },
 "nbformat": 4,
 "nbformat_minor": 2
}
