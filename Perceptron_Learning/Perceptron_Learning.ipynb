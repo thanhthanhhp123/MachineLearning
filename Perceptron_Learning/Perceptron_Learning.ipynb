{
  "nbformat": 4,
  "nbformat_minor": 0,
  "metadata": {
    "colab": {
      "name": "Perceptron_Learning.ipynb",
      "provenance": [],
      "collapsed_sections": []
    },
    "kernelspec": {
      "name": "python3",
      "display_name": "Python 3"
    },
    "language_info": {
      "name": "python"
    }
  },
  "cells": [
    {
      "cell_type": "code",
      "execution_count": null,
      "metadata": {
        "id": "-PHDM_Hz2aDB"
      },
      "outputs": [],
      "source": [
        "import numpy as np\n",
        "import matplotlib.pyplot as plt\n",
        "from scipy.spatial.distance import cdist"
      ]
    },
    {
      "cell_type": "code",
      "source": [
        "means = [[2,2], [4,2]]\n",
        "cov = [[.3, .2], [.2, .3]]\n",
        "N = 10\n",
        "X0 = np.random.multivariate_normal(means[0], cov, N).T\n",
        "X1 = np.random.multivariate_normal(means[1], cov, N).T\n",
        "\n",
        "X = np.concatenate((X0, X1),axis = 1)\n",
        "y = np.concatenate((np.ones((1,N)), -1*np.ones((1, N))), axis = 1)\n",
        "X = np.concatenate((np.ones((1, 2*N)), X), axis = 0)"
      ],
      "metadata": {
        "id": "HTMLdObl6Iwl"
      },
      "execution_count": null,
      "outputs": []
    },
    {
      "cell_type": "code",
      "source": [
        "#Calculate the output knowing the input x and weights w\n",
        "def h(w, x):\n",
        "  return np.sign(np.dot(w.T, x))\n",
        "\n",
        "\n",
        "#Check if the algorithm has converged. We only need to compared h(w, X) with the ground truth. If they are the same, stop the algorithm\n",
        "def has_converged(X, y, w):\n",
        "  return np.array_equal(h(w, X), y)\n",
        "\n",
        "def perceptron(X, y, w_init):\n",
        "    w = [w_init]\n",
        "    N = X.shape[1]\n",
        "    d = X.shape[0]\n",
        "    mis_points = []\n",
        "    while True:\n",
        "        # mix data \n",
        "        mix_id = np.random.permutation(N)\n",
        "        for i in range(N):\n",
        "            xi = X[:, mix_id[i]].reshape(d, 1)\n",
        "            yi = y[0, mix_id[i]]\n",
        "            if h(w[-1], xi)[0] != yi: # misclassified point\n",
        "                mis_points.append(mix_id[i])\n",
        "                w_new = w[-1] + yi*xi \n",
        "                w.append(w_new)\n",
        "                \n",
        "        if has_converged(X, y, w[-1]):\n",
        "            break\n",
        "    return (w, mis_points)\n",
        "\n",
        "d = X.shape[0]\n",
        "w_init = np.random.randn(d, 1)\n",
        "(w, m) = perceptron(X, y, w_init)"
      ],
      "metadata": {
        "id": "K6IKoZdv9Qy1"
      },
      "execution_count": null,
      "outputs": []
    }
  ]
}