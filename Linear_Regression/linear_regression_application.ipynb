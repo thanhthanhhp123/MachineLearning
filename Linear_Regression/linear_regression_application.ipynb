{
 "cells": [
  {
   "cell_type": "code",
   "execution_count": 5,
   "metadata": {},
   "outputs": [],
   "source": [
    "import numpy as np\n",
    "import pandas as pd\n",
    "import matplotlib.pyplot as plt"
   ]
  },
  {
   "cell_type": "markdown",
   "metadata": {},
   "source": [
    "VEHICLE SPEED PREDICTION BASED ON AGE"
   ]
  },
  {
   "cell_type": "code",
   "execution_count": 7,
   "metadata": {},
   "outputs": [
    {
     "name": "stdout",
     "output_type": "stream",
     "text": [
      "    Unnamed: 0  Age  Speed\n",
      "0            0    5     99\n",
      "1            1    7     86\n",
      "2            2    8     87\n",
      "3            3    7     88\n",
      "4            4    2    111\n",
      "5            5   17     86\n",
      "6            6    2    103\n",
      "7            7    9     87\n",
      "8            8    4     94\n",
      "9            9   11     78\n",
      "10          10   12     77\n",
      "11          11    9     85\n",
      "12          12    6     86\n"
     ]
    }
   ],
   "source": [
    "data = pd.read_csv('Age_Speed.csv')\n",
    "print(data)"
   ]
  },
  {
   "cell_type": "code",
   "execution_count": 16,
   "metadata": {},
   "outputs": [],
   "source": [
    "#Collect data with pandas from csv file\n",
    "X = []\n",
    "Y = []\n",
    "for i in data.Age:\n",
    "    X.append(i)\n",
    "\n",
    "for i in data.Speed:\n",
    "    Y.append(i)\n",
    "\n",
    "x = np.reshape(X, (len(X), -1))\n",
    "y = np.reshape(Y, (len(Y), -1))"
   ]
  },
  {
   "cell_type": "code",
   "execution_count": 20,
   "metadata": {},
   "outputs": [
    {
     "data": {
      "text/plain": [
       "Text(0, 0.5, 'Speed (km/h)')"
      ]
     },
     "execution_count": 20,
     "metadata": {},
     "output_type": "execute_result"
    },
    {
     "data": {
      "image/png": "[encoded data removed]",
      "text/plain": [
       "<Figure size 432x288 with 1 Axes>"
      ]
     },
     "metadata": {
      "needs_background": "light"
     },
     "output_type": "display_data"
    }
   ],
   "source": [
    "plt.plot(x, y, 'ro')\n",
    "plt.xlabel('Age')\n",
    "plt.ylabel('Speed (km/h)')"
   ]
  },
  {
   "cell_type": "code",
   "execution_count": 24,
   "metadata": {},
   "outputs": [
    {
     "name": "stdout",
     "output_type": "stream",
     "text": [
      "[[103.10596026]\n",
      " [ -1.75128771]]\n"
     ]
    }
   ],
   "source": [
    "one = np.ones((len(X), 1), int)\n",
    "xbar = np.concatenate((one, x), 1)\n",
    "\n",
    "A = np.dot(xbar.T, xbar)\n",
    "b = np.dot(xbar.T, y)\n",
    "\n",
    "w = np.dot(np.linalg.pinv(A), b)\n",
    "print(w)"
   ]
  },
  {
   "cell_type": "code",
   "execution_count": 38,
   "metadata": {},
   "outputs": [
    {
     "data": {
      "text/plain": [
       "[<matplotlib.lines.Line2D at 0x14ac77340>]"
      ]
     },
     "execution_count": 38,
     "metadata": {},
     "output_type": "execute_result"
    },
    {
     "data": {
      "image/png": "[encoded data removed]",
      "text/plain": [
       "<Figure size 432x288 with 1 Axes>"
      ]
     },
     "metadata": {
      "needs_background": "light"
     },
     "output_type": "display_data"
    }
   ],
   "source": [
    "w_0 = w[0][0]\n",
    "w_1 = w[1][0]\n",
    "x0 = np.linspace(1, 16)\n",
    "y0 = w_0 + w_1*x0\n",
    "\n",
    "plt.plot(x, y, 'ro')\n",
    "plt.plot(x0, y0)"
   ]
  },
  {
   "cell_type": "code",
   "execution_count": 45,
   "metadata": {},
   "outputs": [
    {
     "name": "stdout",
     "output_type": "stream",
     "text": [
      "The predict speed of 8  years old is:  89.1 km/h\n"
     ]
    }
   ],
   "source": [
    "age = int(input(\"Enter the age of the car: \"))\n",
    "speed = w_0 + age*w_1\n",
    "\n",
    "print(u'The predict speed of', age, ' years old is: ', round(speed, 2), 'km/h')"
   ]
  },
  {
   "cell_type": "markdown",
   "metadata": {},
   "source": [
    "EMAIL: thanhmaxdz2003@gmail.com\n",
    "\n",
    "FACEBOOK: https://www.facebook.com/thanhvipvclok"
   ]
  }
 ],
 "metadata": {
  "interpreter": {
   "hash": "aee8b7b246df8f9039afb4144a1f6fd8d2ca17a180786b69acc140d282b71a49"
  },
  "kernelspec": {
   "display_name": "Python 3.10.4 64-bit",
   "language": "python",
   "name": "python3"
  },
  "language_info": {
   "codemirror_mode": {
    "name": "ipython",
    "version": 3
   },
   "file_extension": ".py",
   "mimetype": "text/x-python",
   "name": "python",
   "nbconvert_exporter": "python",
   "pygments_lexer": "ipython3",
   "version": "3.10.4"
  },
  "orig_nbformat": 4
 },
 "nbformat": 4,
 "nbformat_minor": 2
}
